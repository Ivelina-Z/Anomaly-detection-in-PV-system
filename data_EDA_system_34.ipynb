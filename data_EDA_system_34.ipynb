{
 "cells": [
  {
   "cell_type": "code",
   "execution_count": 1,
   "id": "3c946aae-783d-4d31-9c12-38dc1dce9fc2",
   "metadata": {},
   "outputs": [],
   "source": [
    "%matplotlib inline"
   ]
  },
  {
   "cell_type": "code",
   "execution_count": 2,
   "id": "669de77a-fa1b-4243-833b-c598f49ede98",
   "metadata": {},
   "outputs": [],
   "source": [
    "import pandas as pd\n",
    "import numpy as np\n",
    "\n",
    "import matplotlib.pyplot as plt\n",
    "\n",
    "import time\n"
   ]
  },
  {
   "cell_type": "code",
   "execution_count": 3,
   "id": "38a053fc-e3dc-4438-bf8a-96e1a5465548",
   "metadata": {},
   "outputs": [],
   "source": [
    "import custom_functions as cf"
   ]
  },
  {
   "cell_type": "markdown",
   "id": "a9110bf3-7919-4563-9b47-c3a88d3a655a",
   "metadata": {},
   "source": [
    "## System 34"
   ]
  },
  {
   "cell_type": "markdown",
   "id": "542fb0b4-f9d5-4b7f-860a-6fb7765c8a55",
   "metadata": {
    "tags": []
   },
   "source": [
    "### Read data"
   ]
  },
  {
   "cell_type": "code",
   "execution_count": 4,
   "id": "4e77bdb4-0cf4-4a1a-a371-62ba25b3ea70",
   "metadata": {},
   "outputs": [
    {
     "name": "stderr",
     "output_type": "stream",
     "text": [
      "/tmp/ipykernel_8870/618913845.py:1: DtypeWarning: Columns (0,2,3,4,5,6,7,8,9,10,11,12,13,14,15,16) have mixed types. Specify dtype option on import or set low_memory=False.\n",
      "  pv_system_data_34 = pd.read_csv('data/ASYNC_annual_data_system_34.txt')\n"
     ]
    }
   ],
   "source": [
    "pv_system_data_34 = pd.read_csv('data/ASYNC_annual_data_system_34.txt')"
   ]
  },
  {
   "cell_type": "code",
   "execution_count": 5,
   "id": "5bb858a5-0455-4069-bb41-98d85d0f0fa0",
   "metadata": {},
   "outputs": [
    {
     "data": {
      "text/html": [
       "<div>\n",
       "<style scoped>\n",
       "    .dataframe tbody tr th:only-of-type {\n",
       "        vertical-align: middle;\n",
       "    }\n",
       "\n",
       "    .dataframe tbody tr th {\n",
       "        vertical-align: top;\n",
       "    }\n",
       "\n",
       "    .dataframe thead th {\n",
       "        text-align: right;\n",
       "    }\n",
       "</style>\n",
       "<table border=\"1\" class=\"dataframe\">\n",
       "  <thead>\n",
       "    <tr style=\"text-align: right;\">\n",
       "      <th></th>\n",
       "      <th>SiteID</th>\n",
       "      <th>Date-Time</th>\n",
       "      <th>ac_current</th>\n",
       "      <th>ac_power</th>\n",
       "      <th>ac_voltage</th>\n",
       "      <th>ambient_temp</th>\n",
       "      <th>dc_current</th>\n",
       "      <th>dc_power</th>\n",
       "      <th>dc_voltage</th>\n",
       "      <th>inverter_error_code</th>\n",
       "      <th>inverter_temp</th>\n",
       "      <th>module_temp</th>\n",
       "      <th>poa_irradiance</th>\n",
       "      <th>power_factor</th>\n",
       "      <th>relative_humidity</th>\n",
       "      <th>wind_direction</th>\n",
       "      <th>wind_speed</th>\n",
       "    </tr>\n",
       "  </thead>\n",
       "  <tbody>\n",
       "    <tr>\n",
       "      <th>0</th>\n",
       "      <td>34</td>\n",
       "      <td>2010-08-23 11:13:27</td>\n",
       "      <td>NaN</td>\n",
       "      <td>NaN</td>\n",
       "      <td>NaN</td>\n",
       "      <td>NaN</td>\n",
       "      <td>NaN</td>\n",
       "      <td>NaN</td>\n",
       "      <td>NaN</td>\n",
       "      <td>160</td>\n",
       "      <td>NaN</td>\n",
       "      <td>NaN</td>\n",
       "      <td>NaN</td>\n",
       "      <td>NaN</td>\n",
       "      <td>NaN</td>\n",
       "      <td>NaN</td>\n",
       "      <td>NaN</td>\n",
       "    </tr>\n",
       "    <tr>\n",
       "      <th>1</th>\n",
       "      <td>34</td>\n",
       "      <td>2010-08-23 11:15:00</td>\n",
       "      <td>117</td>\n",
       "      <td>100400</td>\n",
       "      <td>285</td>\n",
       "      <td>NaN</td>\n",
       "      <td>328</td>\n",
       "      <td>105100</td>\n",
       "      <td>317</td>\n",
       "      <td>0</td>\n",
       "      <td>58</td>\n",
       "      <td>NaN</td>\n",
       "      <td>NaN</td>\n",
       "      <td>-0.999</td>\n",
       "      <td>NaN</td>\n",
       "      <td>NaN</td>\n",
       "      <td>NaN</td>\n",
       "    </tr>\n",
       "    <tr>\n",
       "      <th>2</th>\n",
       "      <td>34</td>\n",
       "      <td>2010-08-23 11:17:41</td>\n",
       "      <td>NaN</td>\n",
       "      <td>NaN</td>\n",
       "      <td>NaN</td>\n",
       "      <td>NaN</td>\n",
       "      <td>NaN</td>\n",
       "      <td>NaN</td>\n",
       "      <td>NaN</td>\n",
       "      <td>161</td>\n",
       "      <td>NaN</td>\n",
       "      <td>NaN</td>\n",
       "      <td>NaN</td>\n",
       "      <td>NaN</td>\n",
       "      <td>NaN</td>\n",
       "      <td>NaN</td>\n",
       "      <td>NaN</td>\n",
       "    </tr>\n",
       "    <tr>\n",
       "      <th>3</th>\n",
       "      <td>34</td>\n",
       "      <td>2010-08-23 11:18:07</td>\n",
       "      <td>NaN</td>\n",
       "      <td>NaN</td>\n",
       "      <td>NaN</td>\n",
       "      <td>NaN</td>\n",
       "      <td>NaN</td>\n",
       "      <td>NaN</td>\n",
       "      <td>NaN</td>\n",
       "      <td>160</td>\n",
       "      <td>NaN</td>\n",
       "      <td>NaN</td>\n",
       "      <td>NaN</td>\n",
       "      <td>NaN</td>\n",
       "      <td>NaN</td>\n",
       "      <td>NaN</td>\n",
       "      <td>NaN</td>\n",
       "    </tr>\n",
       "    <tr>\n",
       "      <th>4</th>\n",
       "      <td>34</td>\n",
       "      <td>2010-08-23 11:30:00</td>\n",
       "      <td>121</td>\n",
       "      <td>103100</td>\n",
       "      <td>284</td>\n",
       "      <td>NaN</td>\n",
       "      <td>338</td>\n",
       "      <td>108200</td>\n",
       "      <td>316</td>\n",
       "      <td>0</td>\n",
       "      <td>60</td>\n",
       "      <td>NaN</td>\n",
       "      <td>NaN</td>\n",
       "      <td>1</td>\n",
       "      <td>NaN</td>\n",
       "      <td>NaN</td>\n",
       "      <td>NaN</td>\n",
       "    </tr>\n",
       "  </tbody>\n",
       "</table>\n",
       "</div>"
      ],
      "text/plain": [
       "  SiteID            Date-Time ac_current ac_power ac_voltage ambient_temp  \\\n",
       "0     34  2010-08-23 11:13:27        NaN      NaN        NaN          NaN   \n",
       "1     34  2010-08-23 11:15:00        117   100400        285          NaN   \n",
       "2     34  2010-08-23 11:17:41        NaN      NaN        NaN          NaN   \n",
       "3     34  2010-08-23 11:18:07        NaN      NaN        NaN          NaN   \n",
       "4     34  2010-08-23 11:30:00        121   103100        284          NaN   \n",
       "\n",
       "  dc_current dc_power dc_voltage inverter_error_code inverter_temp  \\\n",
       "0        NaN      NaN        NaN                 160           NaN   \n",
       "1        328   105100        317                   0            58   \n",
       "2        NaN      NaN        NaN                 161           NaN   \n",
       "3        NaN      NaN        NaN                 160           NaN   \n",
       "4        338   108200        316                   0            60   \n",
       "\n",
       "  module_temp poa_irradiance power_factor relative_humidity wind_direction  \\\n",
       "0         NaN            NaN          NaN               NaN            NaN   \n",
       "1         NaN            NaN       -0.999               NaN            NaN   \n",
       "2         NaN            NaN          NaN               NaN            NaN   \n",
       "3         NaN            NaN          NaN               NaN            NaN   \n",
       "4         NaN            NaN            1               NaN            NaN   \n",
       "\n",
       "  wind_speed  \n",
       "0        NaN  \n",
       "1        NaN  \n",
       "2        NaN  \n",
       "3        NaN  \n",
       "4        NaN  "
      ]
     },
     "execution_count": 5,
     "metadata": {},
     "output_type": "execute_result"
    }
   ],
   "source": [
    "pv_system_data_34.head()"
   ]
  },
  {
   "cell_type": "code",
   "execution_count": 6,
   "id": "246af40b-e7ec-42be-8942-5bd788e7cc95",
   "metadata": {},
   "outputs": [
    {
     "data": {
      "text/plain": [
       "(345003, 17)"
      ]
     },
     "execution_count": 6,
     "metadata": {},
     "output_type": "execute_result"
    }
   ],
   "source": [
    "pv_system_data_34.shape"
   ]
  },
  {
   "cell_type": "code",
   "execution_count": 7,
   "id": "99c3a5c4-0834-418a-b011-552adc4c40f3",
   "metadata": {},
   "outputs": [
    {
     "data": {
      "text/plain": [
       "Index(['SiteID', 'Date-Time', 'ac_current', 'ac_power', 'ac_voltage',\n",
       "       'ambient_temp', 'dc_current', 'dc_power', 'dc_voltage',\n",
       "       'inverter_error_code', 'inverter_temp', 'module_temp', 'poa_irradiance',\n",
       "       'power_factor', 'relative_humidity', 'wind_direction', 'wind_speed'],\n",
       "      dtype='object')"
      ]
     },
     "execution_count": 7,
     "metadata": {},
     "output_type": "execute_result"
    }
   ],
   "source": [
    "pv_system_data_34.columns.unique()"
   ]
  },
  {
   "cell_type": "markdown",
   "id": "6216fc3a-b622-4b91-8f26-d4d7bee2d039",
   "metadata": {
    "tags": []
   },
   "source": [
    "### Delete additional headers"
   ]
  },
  {
   "cell_type": "code",
   "execution_count": 8,
   "id": "227d6459-698a-4534-8148-246fffbfd04f",
   "metadata": {},
   "outputs": [],
   "source": [
    "pv_system_data_34 = cf.delete_additional_header(pv_system_data_34)"
   ]
  },
  {
   "cell_type": "code",
   "execution_count": 9,
   "id": "0c038007-2dab-46b3-9511-0e5d7ad17bad",
   "metadata": {},
   "outputs": [],
   "source": [
    "assert((pv_system_data_34['SiteID'] == 'SiteID').any() == False)"
   ]
  },
  {
   "cell_type": "markdown",
   "id": "f3ad2929-af97-49d4-b193-e2667c21bf6a",
   "metadata": {
    "tags": []
   },
   "source": [
    "### Rename columns "
   ]
  },
  {
   "cell_type": "code",
   "execution_count": 10,
   "id": "5221aa03-9c82-4273-a1ac-99d5cdf2f5b1",
   "metadata": {},
   "outputs": [],
   "source": [
    "pv_system_data_34 = pv_system_data_34.rename(columns = {'SiteID': 'site_id', 'Date-Time': 'timestamp'})"
   ]
  },
  {
   "cell_type": "code",
   "execution_count": 11,
   "id": "814e2a81-c7a8-434e-a5c7-2b1721adf600",
   "metadata": {},
   "outputs": [],
   "source": [
    "assert((pv_system_data_34['site_id'] == 'SiteID').any() == False)"
   ]
  },
  {
   "cell_type": "markdown",
   "id": "9139c1b4-0ee6-47ed-ad08-044cc780a8fa",
   "metadata": {
    "tags": []
   },
   "source": [
    "### Convert data types"
   ]
  },
  {
   "cell_type": "code",
   "execution_count": 12,
   "id": "1105e4b5-2fa0-42d2-9bd4-58a7dd0dc16f",
   "metadata": {},
   "outputs": [
    {
     "data": {
      "text/plain": [
       "site_id                object\n",
       "timestamp              object\n",
       "ac_current             object\n",
       "ac_power               object\n",
       "ac_voltage             object\n",
       "ambient_temp           object\n",
       "dc_current             object\n",
       "dc_power               object\n",
       "dc_voltage             object\n",
       "inverter_error_code    object\n",
       "inverter_temp          object\n",
       "module_temp            object\n",
       "poa_irradiance         object\n",
       "power_factor           object\n",
       "relative_humidity      object\n",
       "wind_direction         object\n",
       "wind_speed             object\n",
       "dtype: object"
      ]
     },
     "execution_count": 12,
     "metadata": {},
     "output_type": "execute_result"
    }
   ],
   "source": [
    "pv_system_data_34.dtypes"
   ]
  },
  {
   "cell_type": "code",
   "execution_count": 13,
   "id": "7ac00726-aa73-4883-9065-3f13bb96e2b0",
   "metadata": {},
   "outputs": [],
   "source": [
    "pv_system_34_dtypes = {'site_id': int, 'timestamp': 'datetime64', 'ac_current': float, 'ac_power': float, 'ac_voltage': float, 'ambient_temp': float,\n",
    "                       'dc_current': float, 'dc_power': float, 'dc_voltage': float, 'inverter_error_code': int, 'inverter_temp': float, 'module_temp': float,\n",
    "                       'poa_irradiance': float, 'power_factor': float, 'relative_humidity': float, 'wind_direction': float, 'wind_speed': float}"
   ]
  },
  {
   "cell_type": "code",
   "execution_count": 14,
   "id": "66a91cf9-4cd3-4aa5-9b5f-29cd688d3f1c",
   "metadata": {},
   "outputs": [],
   "source": [
    "pv_system_34_dtypes = cf.convert_data_types(pv_system_data_34, pv_system_34_dtypes)"
   ]
  },
  {
   "cell_type": "code",
   "execution_count": 15,
   "id": "96aa1d68-f047-41d4-aa62-06e5688e8f30",
   "metadata": {},
   "outputs": [],
   "source": [
    "assert(pv_system_data_34['timestamp'].dtype == 'datetime64[ns]')"
   ]
  },
  {
   "cell_type": "markdown",
   "id": "dd3e951a-7cff-4f39-995c-1d46965f82ba",
   "metadata": {},
   "source": [
    "## Feature engineering"
   ]
  },
  {
   "cell_type": "markdown",
   "id": "1103cfb1-08ed-447e-b31d-912c95dd4563",
   "metadata": {},
   "source": [
    "The column `site_id` has only one value - 34, because in the current data set is only for one PV system. That feature will be dropped, because it carries no new, valuable information.\n",
    "System 34 has installed power of 146.64 kWp. In the data set columns related to the generated power - `dc_power` and `ac_power`, are in watt dimension. They will be converted in kW, so their values are in the order of the other features' values."
   ]
  },
  {
   "cell_type": "code",
   "execution_count": 16,
   "id": "c6e74276-6b5c-4e11-98a8-d9007f2f95cb",
   "metadata": {},
   "outputs": [],
   "source": [
    "pv_system_data_34 = pv_system_data_34.drop('site_id', axis = 1)"
   ]
  },
  {
   "cell_type": "code",
   "execution_count": 17,
   "id": "b8120d00-ccd1-4f3b-829c-ee59d64a6b57",
   "metadata": {},
   "outputs": [],
   "source": [
    "assert('site_id' not in pv_system_data_34.columns)"
   ]
  },
  {
   "cell_type": "code",
   "execution_count": 18,
   "id": "e39fe7ef-b43e-4dbf-925d-13ddac860335",
   "metadata": {},
   "outputs": [],
   "source": [
    "pv_system_data_34['ac_power'] = pv_system_data_34['ac_power'] / 1000\n",
    "pv_system_data_34['dc_power'] = pv_system_data_34['dc_power'] / 1000"
   ]
  },
  {
   "cell_type": "code",
   "execution_count": 19,
   "id": "c3bf0477-8eec-4ae4-bff6-e24f7dfc4d60",
   "metadata": {},
   "outputs": [],
   "source": [
    "assert(pv_system_data_34['ac_power'].max() < 150)\n",
    "assert(pv_system_data_34['dc_power'].max() < 150)"
   ]
  },
  {
   "cell_type": "markdown",
   "id": "3f343e0e-1469-4baf-817f-5ce36b060a63",
   "metadata": {},
   "source": [
    "## EDA"
   ]
  },
  {
   "cell_type": "markdown",
   "id": "3cb21b8f-0563-4717-bd6b-13ebbf7ca0e1",
   "metadata": {},
   "source": [
    "### Inverter error code  feature"
   ]
  },
  {
   "cell_type": "code",
   "execution_count": 20,
   "id": "30cc5703-1025-44a8-a01a-772a258f8a38",
   "metadata": {},
   "outputs": [
    {
     "data": {
      "text/plain": [
       "0      337266\n",
       "139      7648\n",
       "160        68\n",
       "161        11\n",
       "Name: inverter_error_code, dtype: int64"
      ]
     },
     "execution_count": 20,
     "metadata": {},
     "output_type": "execute_result"
    }
   ],
   "source": [
    "pv_system_data_34['inverter_error_code'].value_counts()"
   ]
  },
  {
   "cell_type": "code",
   "execution_count": 21,
   "id": "9ee603d7-0e28-4712-9ec8-12417abb817c",
   "metadata": {},
   "outputs": [],
   "source": [
    "# pv_system_data_34[pv_system_data_34['inverter_error_code'] == 161]"
   ]
  },
  {
   "cell_type": "code",
   "execution_count": 22,
   "id": "6a96d0a3-651c-4a80-a31c-6aa76266a493",
   "metadata": {},
   "outputs": [],
   "source": [
    "# pv_system_data_34[pv_system_data_34['inverter_error_code'] == 160].sample(5, random_state=13)"
   ]
  },
  {
   "cell_type": "code",
   "execution_count": 23,
   "id": "8c6fbc7d-f093-4ddb-9673-3546a15b6ef5",
   "metadata": {},
   "outputs": [],
   "source": [
    "# pv_system_data_34[pv_system_data_34['inverter_error_code'] == 139].sample(5, random_state=13)"
   ]
  },
  {
   "cell_type": "markdown",
   "id": "0ee2b7b9-02af-4730-9a4c-dbae5ea6fbbb",
   "metadata": {},
   "source": [
    "The `inverter_error_code` feature consists of errors(number different than 0) and 0 standing for normal operation. That information can be used as labeled data and the problem to be treated as supervised. Although the errors appeared in the data are only three types. Model trained only with those labels is highly expected to fail to recognize other types of inverter errors. Because of that for solving the problem unsupervised method will be used and the inverter error codes will be part  of the evaluation of the model. In this case the information for different type of error won't be used and the feature is converted to binary, where 0 means 'no error' and 1 - 'error occurred'. The total amount of errors in the data is around 2.2%. "
   ]
  },
  {
   "cell_type": "code",
   "execution_count": 24,
   "id": "305fc9cb-fc69-49d5-8add-85ad0a399f93",
   "metadata": {},
   "outputs": [],
   "source": [
    "pv_system_data_34['inverter_error_code'] = np.where(pv_system_data_34['inverter_error_code'] != 0, 1, 0)\n",
    "assert((pv_system_data_34['inverter_error_code'].unique() == [1, 0]).all())"
   ]
  },
  {
   "cell_type": "code",
   "execution_count": 25,
   "id": "6998ba19-dadd-4c9c-9ce1-02e58180d227",
   "metadata": {},
   "outputs": [
    {
     "data": {
      "image/png": "[encoded data removed]",
      "text/plain": [
       "<Figure size 432x288 with 1 Axes>"
      ]
     },
     "metadata": {
      "needs_background": "light"
     },
     "output_type": "display_data"
    }
   ],
   "source": [
    "plt.bar(['normal', 'error'], pv_system_data_34['inverter_error_code'].value_counts())\n",
    "plt.show()"
   ]
  },
  {
   "cell_type": "markdown",
   "id": "6d81cf9b-5150-411a-b772-1f9e51a81f78",
   "metadata": {},
   "source": [
    "### Record per year"
   ]
  },
  {
   "cell_type": "code",
   "execution_count": 26,
   "id": "d87044fe-c265-4af2-9211-b0782afdb3b3",
   "metadata": {},
   "outputs": [
    {
     "data": {
      "image/png": "[encoded data removed]",
      "text/plain": [
       "<Figure size 432x288 with 1 Axes>"
      ]
     },
     "metadata": {
      "needs_background": "light"
     },
     "output_type": "display_data"
    }
   ],
   "source": [
    "plt.bar(pv_system_data_34['timestamp'].dt.year.unique(), pv_system_data_34['timestamp'].dt.year.value_counts())\n",
    "plt.title('Records per year')\n",
    "plt.xlabel('Year')\n",
    "plt.xticks(range(2010, 2021))\n",
    "plt.show()"
   ]
  },
  {
   "cell_type": "code",
   "execution_count": 27,
   "id": "ed86de3c-3bd9-444c-887c-af71be56ea64",
   "metadata": {},
   "outputs": [
    {
     "data": {
      "image/png": "[encoded data removed]",
      "text/plain": [
       "<Figure size 432x288 with 1 Axes>"
      ]
     },
     "metadata": {
      "needs_background": "light"
     },
     "output_type": "display_data"
    }
   ],
   "source": [
    "plt.bar(pv_system_data_34['timestamp'].dt.month.unique(), pv_system_data_34['timestamp'].dt.month.value_counts())\n",
    "plt.title('Records per month')\n",
    "plt.xlabel('Month')\n",
    "plt.xticks(range(1, 13))\n",
    "plt.show()"
   ]
  },
  {
   "cell_type": "markdown",
   "id": "e0ec0eba-f3d8-4dc5-8659-38fbe35b474f",
   "metadata": {},
   "source": [
    "The last two years have significantly less amount of records. The records per month are quite balanced with least records for July and most records for August, September, November and December."
   ]
  },
  {
   "cell_type": "markdown",
   "id": "d15c6e31-9ad5-486e-978e-da83bfcd3bc2",
   "metadata": {
    "tags": []
   },
   "source": [
    "### Missing data percentage"
   ]
  },
  {
   "cell_type": "code",
   "execution_count": 28,
   "id": "1845b939-963b-45b7-b107-5a892573d9c6",
   "metadata": {},
   "outputs": [],
   "source": [
    "missing_data_percentage = cf.missing_values_percent(pv_system_data_34, 'timestamp')"
   ]
  },
  {
   "cell_type": "code",
   "execution_count": 29,
   "id": "ba7e3015-aeed-4e76-aa72-e2a924bf3b7b",
   "metadata": {},
   "outputs": [
    {
     "data": {
      "text/html": [
       "<style type=\"text/css\">\n",
       "#T_d8221_row0_col0, #T_d8221_row0_col8, #T_d8221_row1_col0, #T_d8221_row1_col1, #T_d8221_row1_col2, #T_d8221_row1_col3, #T_d8221_row1_col5, #T_d8221_row1_col6, #T_d8221_row1_col7, #T_d8221_row1_col8, #T_d8221_row1_col9, #T_d8221_row1_col12, #T_d8221_row2_col0, #T_d8221_row2_col4, #T_d8221_row2_col8, #T_d8221_row2_col10, #T_d8221_row2_col11, #T_d8221_row2_col13, #T_d8221_row2_col14, #T_d8221_row2_col15, #T_d8221_row3_col0, #T_d8221_row3_col4, #T_d8221_row3_col8, #T_d8221_row3_col10, #T_d8221_row3_col11, #T_d8221_row3_col13, #T_d8221_row3_col14, #T_d8221_row3_col15, #T_d8221_row4_col0, #T_d8221_row4_col8, #T_d8221_row5_col0, #T_d8221_row5_col1, #T_d8221_row5_col2, #T_d8221_row5_col3, #T_d8221_row5_col5, #T_d8221_row5_col6, #T_d8221_row5_col7, #T_d8221_row5_col8, #T_d8221_row5_col9, #T_d8221_row5_col12, #T_d8221_row6_col0, #T_d8221_row6_col8, #T_d8221_row7_col0, #T_d8221_row7_col1, #T_d8221_row7_col2, #T_d8221_row7_col3, #T_d8221_row7_col5, #T_d8221_row7_col6, #T_d8221_row7_col7, #T_d8221_row7_col8, #T_d8221_row7_col9, #T_d8221_row7_col12, #T_d8221_row8_col0, #T_d8221_row8_col8, #T_d8221_row9_col0, #T_d8221_row9_col8, #T_d8221_row10_col0, #T_d8221_row10_col8 {\n",
       "  background-color: #f7fcf5;\n",
       "  color: #000000;\n",
       "}\n",
       "#T_d8221_row0_col1, #T_d8221_row0_col2, #T_d8221_row0_col3, #T_d8221_row0_col5, #T_d8221_row0_col6, #T_d8221_row0_col7, #T_d8221_row0_col9, #T_d8221_row0_col12, #T_d8221_row8_col4, #T_d8221_row8_col10, #T_d8221_row8_col11, #T_d8221_row8_col13, #T_d8221_row8_col14, #T_d8221_row8_col15, #T_d8221_row9_col4, #T_d8221_row9_col10, #T_d8221_row9_col11, #T_d8221_row9_col13, #T_d8221_row9_col14, #T_d8221_row9_col15, #T_d8221_row10_col4, #T_d8221_row10_col10, #T_d8221_row10_col11, #T_d8221_row10_col13, #T_d8221_row10_col14, #T_d8221_row10_col15 {\n",
       "  background-color: #00441b;\n",
       "  color: #f1f1f1;\n",
       "}\n",
       "#T_d8221_row0_col4, #T_d8221_row0_col10, #T_d8221_row0_col11, #T_d8221_row0_col13, #T_d8221_row0_col14, #T_d8221_row0_col15 {\n",
       "  background-color: #e4f5df;\n",
       "  color: #000000;\n",
       "}\n",
       "#T_d8221_row1_col4, #T_d8221_row1_col10, #T_d8221_row1_col11, #T_d8221_row1_col13, #T_d8221_row1_col14, #T_d8221_row1_col15 {\n",
       "  background-color: #e8f6e3;\n",
       "  color: #000000;\n",
       "}\n",
       "#T_d8221_row2_col1, #T_d8221_row2_col2, #T_d8221_row2_col3, #T_d8221_row2_col5, #T_d8221_row2_col6, #T_d8221_row2_col7, #T_d8221_row2_col9, #T_d8221_row2_col12 {\n",
       "  background-color: #349d53;\n",
       "  color: #f1f1f1;\n",
       "}\n",
       "#T_d8221_row3_col1, #T_d8221_row3_col2, #T_d8221_row3_col3, #T_d8221_row3_col5, #T_d8221_row3_col6, #T_d8221_row3_col7, #T_d8221_row3_col9, #T_d8221_row3_col12 {\n",
       "  background-color: #f2faf0;\n",
       "  color: #000000;\n",
       "}\n",
       "#T_d8221_row4_col1, #T_d8221_row4_col2, #T_d8221_row4_col3, #T_d8221_row4_col5, #T_d8221_row4_col6, #T_d8221_row4_col7, #T_d8221_row4_col9, #T_d8221_row4_col12, #T_d8221_row8_col1, #T_d8221_row8_col2, #T_d8221_row8_col3, #T_d8221_row8_col5, #T_d8221_row8_col6, #T_d8221_row8_col7, #T_d8221_row8_col9, #T_d8221_row8_col12 {\n",
       "  background-color: #f6fcf4;\n",
       "  color: #000000;\n",
       "}\n",
       "#T_d8221_row4_col4, #T_d8221_row4_col10, #T_d8221_row4_col11, #T_d8221_row4_col13, #T_d8221_row4_col14, #T_d8221_row4_col15 {\n",
       "  background-color: #f0f9ec;\n",
       "  color: #000000;\n",
       "}\n",
       "#T_d8221_row5_col4, #T_d8221_row5_col10, #T_d8221_row5_col11, #T_d8221_row5_col13, #T_d8221_row5_col14, #T_d8221_row5_col15 {\n",
       "  background-color: #ecf8e8;\n",
       "  color: #000000;\n",
       "}\n",
       "#T_d8221_row6_col1, #T_d8221_row6_col2, #T_d8221_row6_col3, #T_d8221_row6_col5, #T_d8221_row6_col6, #T_d8221_row6_col7, #T_d8221_row6_col9, #T_d8221_row6_col12 {\n",
       "  background-color: #4aaf61;\n",
       "  color: #f1f1f1;\n",
       "}\n",
       "#T_d8221_row6_col4, #T_d8221_row6_col10, #T_d8221_row6_col11, #T_d8221_row6_col13, #T_d8221_row6_col14, #T_d8221_row6_col15 {\n",
       "  background-color: #ebf7e7;\n",
       "  color: #000000;\n",
       "}\n",
       "#T_d8221_row7_col4, #T_d8221_row7_col10, #T_d8221_row7_col11, #T_d8221_row7_col13, #T_d8221_row7_col14, #T_d8221_row7_col15 {\n",
       "  background-color: #f4fbf2;\n",
       "  color: #000000;\n",
       "}\n",
       "#T_d8221_row9_col1, #T_d8221_row9_col2, #T_d8221_row9_col3, #T_d8221_row9_col5, #T_d8221_row9_col6, #T_d8221_row9_col7, #T_d8221_row9_col9, #T_d8221_row9_col12 {\n",
       "  background-color: #e3f4de;\n",
       "  color: #000000;\n",
       "}\n",
       "#T_d8221_row10_col1, #T_d8221_row10_col2, #T_d8221_row10_col3, #T_d8221_row10_col5, #T_d8221_row10_col6, #T_d8221_row10_col7, #T_d8221_row10_col9, #T_d8221_row10_col12 {\n",
       "  background-color: #daf0d4;\n",
       "  color: #000000;\n",
       "}\n",
       "</style>\n",
       "<table id=\"T_d8221\">\n",
       "  <thead>\n",
       "    <tr>\n",
       "      <th class=\"blank level0\" >&nbsp;</th>\n",
       "      <th id=\"T_d8221_level0_col0\" class=\"col_heading level0 col0\" >timestamp</th>\n",
       "      <th id=\"T_d8221_level0_col1\" class=\"col_heading level0 col1\" >ac_current</th>\n",
       "      <th id=\"T_d8221_level0_col2\" class=\"col_heading level0 col2\" >ac_power</th>\n",
       "      <th id=\"T_d8221_level0_col3\" class=\"col_heading level0 col3\" >ac_voltage</th>\n",
       "      <th id=\"T_d8221_level0_col4\" class=\"col_heading level0 col4\" >ambient_temp</th>\n",
       "      <th id=\"T_d8221_level0_col5\" class=\"col_heading level0 col5\" >dc_current</th>\n",
       "      <th id=\"T_d8221_level0_col6\" class=\"col_heading level0 col6\" >dc_power</th>\n",
       "      <th id=\"T_d8221_level0_col7\" class=\"col_heading level0 col7\" >dc_voltage</th>\n",
       "      <th id=\"T_d8221_level0_col8\" class=\"col_heading level0 col8\" >inverter_error_code</th>\n",
       "      <th id=\"T_d8221_level0_col9\" class=\"col_heading level0 col9\" >inverter_temp</th>\n",
       "      <th id=\"T_d8221_level0_col10\" class=\"col_heading level0 col10\" >module_temp</th>\n",
       "      <th id=\"T_d8221_level0_col11\" class=\"col_heading level0 col11\" >poa_irradiance</th>\n",
       "      <th id=\"T_d8221_level0_col12\" class=\"col_heading level0 col12\" >power_factor</th>\n",
       "      <th id=\"T_d8221_level0_col13\" class=\"col_heading level0 col13\" >relative_humidity</th>\n",
       "      <th id=\"T_d8221_level0_col14\" class=\"col_heading level0 col14\" >wind_direction</th>\n",
       "      <th id=\"T_d8221_level0_col15\" class=\"col_heading level0 col15\" >wind_speed</th>\n",
       "    </tr>\n",
       "    <tr>\n",
       "      <th class=\"index_name level0\" >timestamp</th>\n",
       "      <th class=\"blank col0\" >&nbsp;</th>\n",
       "      <th class=\"blank col1\" >&nbsp;</th>\n",
       "      <th class=\"blank col2\" >&nbsp;</th>\n",
       "      <th class=\"blank col3\" >&nbsp;</th>\n",
       "      <th class=\"blank col4\" >&nbsp;</th>\n",
       "      <th class=\"blank col5\" >&nbsp;</th>\n",
       "      <th class=\"blank col6\" >&nbsp;</th>\n",
       "      <th class=\"blank col7\" >&nbsp;</th>\n",
       "      <th class=\"blank col8\" >&nbsp;</th>\n",
       "      <th class=\"blank col9\" >&nbsp;</th>\n",
       "      <th class=\"blank col10\" >&nbsp;</th>\n",
       "      <th class=\"blank col11\" >&nbsp;</th>\n",
       "      <th class=\"blank col12\" >&nbsp;</th>\n",
       "      <th class=\"blank col13\" >&nbsp;</th>\n",
       "      <th class=\"blank col14\" >&nbsp;</th>\n",
       "      <th class=\"blank col15\" >&nbsp;</th>\n",
       "    </tr>\n",
       "  </thead>\n",
       "  <tbody>\n",
       "    <tr>\n",
       "      <th id=\"T_d8221_level0_row0\" class=\"row_heading level0 row0\" >2010</th>\n",
       "      <td id=\"T_d8221_row0_col0\" class=\"data row0 col0\" >0.000000</td>\n",
       "      <td id=\"T_d8221_row0_col1\" class=\"data row0 col1\" >18.296178</td>\n",
       "      <td id=\"T_d8221_row0_col2\" class=\"data row0 col2\" >18.296178</td>\n",
       "      <td id=\"T_d8221_row0_col3\" class=\"data row0 col3\" >18.296178</td>\n",
       "      <td id=\"T_d8221_row0_col4\" class=\"data row0 col4\" >1.321656</td>\n",
       "      <td id=\"T_d8221_row0_col5\" class=\"data row0 col5\" >18.296178</td>\n",
       "      <td id=\"T_d8221_row0_col6\" class=\"data row0 col6\" >18.296178</td>\n",
       "      <td id=\"T_d8221_row0_col7\" class=\"data row0 col7\" >18.296178</td>\n",
       "      <td id=\"T_d8221_row0_col8\" class=\"data row0 col8\" >0.000000</td>\n",
       "      <td id=\"T_d8221_row0_col9\" class=\"data row0 col9\" >18.296178</td>\n",
       "      <td id=\"T_d8221_row0_col10\" class=\"data row0 col10\" >1.321656</td>\n",
       "      <td id=\"T_d8221_row0_col11\" class=\"data row0 col11\" >1.321656</td>\n",
       "      <td id=\"T_d8221_row0_col12\" class=\"data row0 col12\" >18.296178</td>\n",
       "      <td id=\"T_d8221_row0_col13\" class=\"data row0 col13\" >1.321656</td>\n",
       "      <td id=\"T_d8221_row0_col14\" class=\"data row0 col14\" >1.321656</td>\n",
       "      <td id=\"T_d8221_row0_col15\" class=\"data row0 col15\" >1.321656</td>\n",
       "    </tr>\n",
       "    <tr>\n",
       "      <th id=\"T_d8221_level0_row1\" class=\"row_heading level0 row1\" >2011</th>\n",
       "      <td id=\"T_d8221_row1_col0\" class=\"data row1 col0\" >0.000000</td>\n",
       "      <td id=\"T_d8221_row1_col1\" class=\"data row1 col1\" >0.037122</td>\n",
       "      <td id=\"T_d8221_row1_col2\" class=\"data row1 col2\" >0.037122</td>\n",
       "      <td id=\"T_d8221_row1_col3\" class=\"data row1 col3\" >0.037122</td>\n",
       "      <td id=\"T_d8221_row1_col4\" class=\"data row1 col4\" >1.087950</td>\n",
       "      <td id=\"T_d8221_row1_col5\" class=\"data row1 col5\" >0.037122</td>\n",
       "      <td id=\"T_d8221_row1_col6\" class=\"data row1 col6\" >0.037122</td>\n",
       "      <td id=\"T_d8221_row1_col7\" class=\"data row1 col7\" >0.037122</td>\n",
       "      <td id=\"T_d8221_row1_col8\" class=\"data row1 col8\" >0.000000</td>\n",
       "      <td id=\"T_d8221_row1_col9\" class=\"data row1 col9\" >0.037122</td>\n",
       "      <td id=\"T_d8221_row1_col10\" class=\"data row1 col10\" >1.087950</td>\n",
       "      <td id=\"T_d8221_row1_col11\" class=\"data row1 col11\" >1.087950</td>\n",
       "      <td id=\"T_d8221_row1_col12\" class=\"data row1 col12\" >0.037122</td>\n",
       "      <td id=\"T_d8221_row1_col13\" class=\"data row1 col13\" >1.087950</td>\n",
       "      <td id=\"T_d8221_row1_col14\" class=\"data row1 col14\" >1.087950</td>\n",
       "      <td id=\"T_d8221_row1_col15\" class=\"data row1 col15\" >1.087950</td>\n",
       "    </tr>\n",
       "    <tr>\n",
       "      <th id=\"T_d8221_level0_row2\" class=\"row_heading level0 row2\" >2012</th>\n",
       "      <td id=\"T_d8221_row2_col0\" class=\"data row2 col0\" >0.000000</td>\n",
       "      <td id=\"T_d8221_row2_col1\" class=\"data row2 col1\" >6.768907</td>\n",
       "      <td id=\"T_d8221_row2_col2\" class=\"data row2 col2\" >6.768907</td>\n",
       "      <td id=\"T_d8221_row2_col3\" class=\"data row2 col3\" >6.768907</td>\n",
       "      <td id=\"T_d8221_row2_col4\" class=\"data row2 col4\" >0.031298</td>\n",
       "      <td id=\"T_d8221_row2_col5\" class=\"data row2 col5\" >6.768907</td>\n",
       "      <td id=\"T_d8221_row2_col6\" class=\"data row2 col6\" >6.768907</td>\n",
       "      <td id=\"T_d8221_row2_col7\" class=\"data row2 col7\" >6.768907</td>\n",
       "      <td id=\"T_d8221_row2_col8\" class=\"data row2 col8\" >0.000000</td>\n",
       "      <td id=\"T_d8221_row2_col9\" class=\"data row2 col9\" >6.768907</td>\n",
       "      <td id=\"T_d8221_row2_col10\" class=\"data row2 col10\" >0.031298</td>\n",
       "      <td id=\"T_d8221_row2_col11\" class=\"data row2 col11\" >0.031298</td>\n",
       "      <td id=\"T_d8221_row2_col12\" class=\"data row2 col12\" >6.768907</td>\n",
       "      <td id=\"T_d8221_row2_col13\" class=\"data row2 col13\" >0.031298</td>\n",
       "      <td id=\"T_d8221_row2_col14\" class=\"data row2 col14\" >0.031298</td>\n",
       "      <td id=\"T_d8221_row2_col15\" class=\"data row2 col15\" >0.031298</td>\n",
       "    </tr>\n",
       "    <tr>\n",
       "      <th id=\"T_d8221_level0_row3\" class=\"row_heading level0 row3\" >2013</th>\n",
       "      <td id=\"T_d8221_row3_col0\" class=\"data row3 col0\" >0.000000</td>\n",
       "      <td id=\"T_d8221_row3_col1\" class=\"data row3 col1\" >0.313882</td>\n",
       "      <td id=\"T_d8221_row3_col2\" class=\"data row3 col2\" >0.313882</td>\n",
       "      <td id=\"T_d8221_row3_col3\" class=\"data row3 col3\" >0.313882</td>\n",
       "      <td id=\"T_d8221_row3_col4\" class=\"data row3 col4\" >0.017121</td>\n",
       "      <td id=\"T_d8221_row3_col5\" class=\"data row3 col5\" >0.313882</td>\n",
       "      <td id=\"T_d8221_row3_col6\" class=\"data row3 col6\" >0.313882</td>\n",
       "      <td id=\"T_d8221_row3_col7\" class=\"data row3 col7\" >0.313882</td>\n",
       "      <td id=\"T_d8221_row3_col8\" class=\"data row3 col8\" >0.000000</td>\n",
       "      <td id=\"T_d8221_row3_col9\" class=\"data row3 col9\" >0.313882</td>\n",
       "      <td id=\"T_d8221_row3_col10\" class=\"data row3 col10\" >0.017121</td>\n",
       "      <td id=\"T_d8221_row3_col11\" class=\"data row3 col11\" >0.017121</td>\n",
       "      <td id=\"T_d8221_row3_col12\" class=\"data row3 col12\" >0.313882</td>\n",
       "      <td id=\"T_d8221_row3_col13\" class=\"data row3 col13\" >0.017121</td>\n",
       "      <td id=\"T_d8221_row3_col14\" class=\"data row3 col14\" >0.017121</td>\n",
       "      <td id=\"T_d8221_row3_col15\" class=\"data row3 col15\" >0.017121</td>\n",
       "    </tr>\n",
       "    <tr>\n",
       "      <th id=\"T_d8221_level0_row4\" class=\"row_heading level0 row4\" >2014</th>\n",
       "      <td id=\"T_d8221_row4_col0\" class=\"data row4 col0\" >0.000000</td>\n",
       "      <td id=\"T_d8221_row4_col1\" class=\"data row4 col1\" >0.048533</td>\n",
       "      <td id=\"T_d8221_row4_col2\" class=\"data row4 col2\" >0.048533</td>\n",
       "      <td id=\"T_d8221_row4_col3\" class=\"data row4 col3\" >0.048533</td>\n",
       "      <td id=\"T_d8221_row4_col4\" class=\"data row4 col4\" >0.548133</td>\n",
       "      <td id=\"T_d8221_row4_col5\" class=\"data row4 col5\" >0.048533</td>\n",
       "      <td id=\"T_d8221_row4_col6\" class=\"data row4 col6\" >0.048533</td>\n",
       "      <td id=\"T_d8221_row4_col7\" class=\"data row4 col7\" >0.048533</td>\n",
       "      <td id=\"T_d8221_row4_col8\" class=\"data row4 col8\" >0.000000</td>\n",
       "      <td id=\"T_d8221_row4_col9\" class=\"data row4 col9\" >0.048533</td>\n",
       "      <td id=\"T_d8221_row4_col10\" class=\"data row4 col10\" >0.548133</td>\n",
       "      <td id=\"T_d8221_row4_col11\" class=\"data row4 col11\" >0.548133</td>\n",
       "      <td id=\"T_d8221_row4_col12\" class=\"data row4 col12\" >0.048533</td>\n",
       "      <td id=\"T_d8221_row4_col13\" class=\"data row4 col13\" >0.548133</td>\n",
       "      <td id=\"T_d8221_row4_col14\" class=\"data row4 col14\" >0.548133</td>\n",
       "      <td id=\"T_d8221_row4_col15\" class=\"data row4 col15\" >0.548133</td>\n",
       "    </tr>\n",
       "    <tr>\n",
       "      <th id=\"T_d8221_level0_row5\" class=\"row_heading level0 row5\" >2015</th>\n",
       "      <td id=\"T_d8221_row5_col0\" class=\"data row5 col0\" >0.000000</td>\n",
       "      <td id=\"T_d8221_row5_col1\" class=\"data row5 col1\" >0.000000</td>\n",
       "      <td id=\"T_d8221_row5_col2\" class=\"data row5 col2\" >0.000000</td>\n",
       "      <td id=\"T_d8221_row5_col3\" class=\"data row5 col3\" >0.000000</td>\n",
       "      <td id=\"T_d8221_row5_col4\" class=\"data row5 col4\" >0.832261</td>\n",
       "      <td id=\"T_d8221_row5_col5\" class=\"data row5 col5\" >0.000000</td>\n",
       "      <td id=\"T_d8221_row5_col6\" class=\"data row5 col6\" >0.000000</td>\n",
       "      <td id=\"T_d8221_row5_col7\" class=\"data row5 col7\" >0.000000</td>\n",
       "      <td id=\"T_d8221_row5_col8\" class=\"data row5 col8\" >0.000000</td>\n",
       "      <td id=\"T_d8221_row5_col9\" class=\"data row5 col9\" >0.000000</td>\n",
       "      <td id=\"T_d8221_row5_col10\" class=\"data row5 col10\" >0.832261</td>\n",
       "      <td id=\"T_d8221_row5_col11\" class=\"data row5 col11\" >0.832261</td>\n",
       "      <td id=\"T_d8221_row5_col12\" class=\"data row5 col12\" >0.000000</td>\n",
       "      <td id=\"T_d8221_row5_col13\" class=\"data row5 col13\" >0.832261</td>\n",
       "      <td id=\"T_d8221_row5_col14\" class=\"data row5 col14\" >0.832261</td>\n",
       "      <td id=\"T_d8221_row5_col15\" class=\"data row5 col15\" >0.832261</td>\n",
       "    </tr>\n",
       "    <tr>\n",
       "      <th id=\"T_d8221_level0_row6\" class=\"row_heading level0 row6\" >2016</th>\n",
       "      <td id=\"T_d8221_row6_col0\" class=\"data row6 col0\" >0.000000</td>\n",
       "      <td id=\"T_d8221_row6_col1\" class=\"data row6 col1\" >6.018782</td>\n",
       "      <td id=\"T_d8221_row6_col2\" class=\"data row6 col2\" >6.018782</td>\n",
       "      <td id=\"T_d8221_row6_col3\" class=\"data row6 col3\" >6.018782</td>\n",
       "      <td id=\"T_d8221_row6_col4\" class=\"data row6 col4\" >0.836653</td>\n",
       "      <td id=\"T_d8221_row6_col5\" class=\"data row6 col5\" >6.018782</td>\n",
       "      <td id=\"T_d8221_row6_col6\" class=\"data row6 col6\" >6.018782</td>\n",
       "      <td id=\"T_d8221_row6_col7\" class=\"data row6 col7\" >6.018782</td>\n",
       "      <td id=\"T_d8221_row6_col8\" class=\"data row6 col8\" >0.000000</td>\n",
       "      <td id=\"T_d8221_row6_col9\" class=\"data row6 col9\" >6.018782</td>\n",
       "      <td id=\"T_d8221_row6_col10\" class=\"data row6 col10\" >0.836653</td>\n",
       "      <td id=\"T_d8221_row6_col11\" class=\"data row6 col11\" >0.836653</td>\n",
       "      <td id=\"T_d8221_row6_col12\" class=\"data row6 col12\" >6.018782</td>\n",
       "      <td id=\"T_d8221_row6_col13\" class=\"data row6 col13\" >0.836653</td>\n",
       "      <td id=\"T_d8221_row6_col14\" class=\"data row6 col14\" >0.836653</td>\n",
       "      <td id=\"T_d8221_row6_col15\" class=\"data row6 col15\" >0.836653</td>\n",
       "    </tr>\n",
       "    <tr>\n",
       "      <th id=\"T_d8221_level0_row7\" class=\"row_heading level0 row7\" >2017</th>\n",
       "      <td id=\"T_d8221_row7_col0\" class=\"data row7 col0\" >0.000000</td>\n",
       "      <td id=\"T_d8221_row7_col1\" class=\"data row7 col1\" >0.014267</td>\n",
       "      <td id=\"T_d8221_row7_col2\" class=\"data row7 col2\" >0.014267</td>\n",
       "      <td id=\"T_d8221_row7_col3\" class=\"data row7 col3\" >0.014267</td>\n",
       "      <td id=\"T_d8221_row7_col4\" class=\"data row7 col4\" >0.236838</td>\n",
       "      <td id=\"T_d8221_row7_col5\" class=\"data row7 col5\" >0.014267</td>\n",
       "      <td id=\"T_d8221_row7_col6\" class=\"data row7 col6\" >0.014267</td>\n",
       "      <td id=\"T_d8221_row7_col7\" class=\"data row7 col7\" >0.014267</td>\n",
       "      <td id=\"T_d8221_row7_col8\" class=\"data row7 col8\" >0.000000</td>\n",
       "      <td id=\"T_d8221_row7_col9\" class=\"data row7 col9\" >0.014267</td>\n",
       "      <td id=\"T_d8221_row7_col10\" class=\"data row7 col10\" >0.236838</td>\n",
       "      <td id=\"T_d8221_row7_col11\" class=\"data row7 col11\" >0.236838</td>\n",
       "      <td id=\"T_d8221_row7_col12\" class=\"data row7 col12\" >0.014267</td>\n",
       "      <td id=\"T_d8221_row7_col13\" class=\"data row7 col13\" >0.236838</td>\n",
       "      <td id=\"T_d8221_row7_col14\" class=\"data row7 col14\" >0.236838</td>\n",
       "      <td id=\"T_d8221_row7_col15\" class=\"data row7 col15\" >0.236838</td>\n",
       "    </tr>\n",
       "    <tr>\n",
       "      <th id=\"T_d8221_level0_row8\" class=\"row_heading level0 row8\" >2018</th>\n",
       "      <td id=\"T_d8221_row8_col0\" class=\"data row8 col0\" >0.000000</td>\n",
       "      <td id=\"T_d8221_row8_col1\" class=\"data row8 col1\" >0.071465</td>\n",
       "      <td id=\"T_d8221_row8_col2\" class=\"data row8 col2\" >0.071465</td>\n",
       "      <td id=\"T_d8221_row8_col3\" class=\"data row8 col3\" >0.071465</td>\n",
       "      <td id=\"T_d8221_row8_col4\" class=\"data row8 col4\" >15.462238</td>\n",
       "      <td id=\"T_d8221_row8_col5\" class=\"data row8 col5\" >0.071465</td>\n",
       "      <td id=\"T_d8221_row8_col6\" class=\"data row8 col6\" >0.071465</td>\n",
       "      <td id=\"T_d8221_row8_col7\" class=\"data row8 col7\" >0.071465</td>\n",
       "      <td id=\"T_d8221_row8_col8\" class=\"data row8 col8\" >0.000000</td>\n",
       "      <td id=\"T_d8221_row8_col9\" class=\"data row8 col9\" >0.071465</td>\n",
       "      <td id=\"T_d8221_row8_col10\" class=\"data row8 col10\" >15.462238</td>\n",
       "      <td id=\"T_d8221_row8_col11\" class=\"data row8 col11\" >15.462238</td>\n",
       "      <td id=\"T_d8221_row8_col12\" class=\"data row8 col12\" >0.071465</td>\n",
       "      <td id=\"T_d8221_row8_col13\" class=\"data row8 col13\" >15.462238</td>\n",
       "      <td id=\"T_d8221_row8_col14\" class=\"data row8 col14\" >15.462238</td>\n",
       "      <td id=\"T_d8221_row8_col15\" class=\"data row8 col15\" >15.462238</td>\n",
       "    </tr>\n",
       "    <tr>\n",
       "      <th id=\"T_d8221_level0_row9\" class=\"row_heading level0 row9\" >2019</th>\n",
       "      <td id=\"T_d8221_row9_col0\" class=\"data row9 col0\" >0.000000</td>\n",
       "      <td id=\"T_d8221_row9_col1\" class=\"data row9 col1\" >1.344025</td>\n",
       "      <td id=\"T_d8221_row9_col2\" class=\"data row9 col2\" >1.344025</td>\n",
       "      <td id=\"T_d8221_row9_col3\" class=\"data row9 col3\" >1.344025</td>\n",
       "      <td id=\"T_d8221_row9_col4\" class=\"data row9 col4\" >94.906403</td>\n",
       "      <td id=\"T_d8221_row9_col5\" class=\"data row9 col5\" >1.344025</td>\n",
       "      <td id=\"T_d8221_row9_col6\" class=\"data row9 col6\" >1.344025</td>\n",
       "      <td id=\"T_d8221_row9_col7\" class=\"data row9 col7\" >1.344025</td>\n",
       "      <td id=\"T_d8221_row9_col8\" class=\"data row9 col8\" >0.000000</td>\n",
       "      <td id=\"T_d8221_row9_col9\" class=\"data row9 col9\" >1.344025</td>\n",
       "      <td id=\"T_d8221_row9_col10\" class=\"data row9 col10\" >94.906403</td>\n",
       "      <td id=\"T_d8221_row9_col11\" class=\"data row9 col11\" >94.906403</td>\n",
       "      <td id=\"T_d8221_row9_col12\" class=\"data row9 col12\" >1.344025</td>\n",
       "      <td id=\"T_d8221_row9_col13\" class=\"data row9 col13\" >94.906403</td>\n",
       "      <td id=\"T_d8221_row9_col14\" class=\"data row9 col14\" >94.906403</td>\n",
       "      <td id=\"T_d8221_row9_col15\" class=\"data row9 col15\" >94.906403</td>\n",
       "    </tr>\n",
       "    <tr>\n",
       "      <th id=\"T_d8221_level0_row10\" class=\"row_heading level0 row10\" >2020</th>\n",
       "      <td id=\"T_d8221_row10_col0\" class=\"data row10 col0\" >0.000000</td>\n",
       "      <td id=\"T_d8221_row10_col1\" class=\"data row10 col1\" >1.727583</td>\n",
       "      <td id=\"T_d8221_row10_col2\" class=\"data row10 col2\" >1.727583</td>\n",
       "      <td id=\"T_d8221_row10_col3\" class=\"data row10 col3\" >1.727583</td>\n",
       "      <td id=\"T_d8221_row10_col4\" class=\"data row10 col4\" >92.196498</td>\n",
       "      <td id=\"T_d8221_row10_col5\" class=\"data row10 col5\" >1.727583</td>\n",
       "      <td id=\"T_d8221_row10_col6\" class=\"data row10 col6\" >1.727583</td>\n",
       "      <td id=\"T_d8221_row10_col7\" class=\"data row10 col7\" >1.727583</td>\n",
       "      <td id=\"T_d8221_row10_col8\" class=\"data row10 col8\" >0.000000</td>\n",
       "      <td id=\"T_d8221_row10_col9\" class=\"data row10 col9\" >1.727583</td>\n",
       "      <td id=\"T_d8221_row10_col10\" class=\"data row10 col10\" >92.196498</td>\n",
       "      <td id=\"T_d8221_row10_col11\" class=\"data row10 col11\" >92.196498</td>\n",
       "      <td id=\"T_d8221_row10_col12\" class=\"data row10 col12\" >1.727583</td>\n",
       "      <td id=\"T_d8221_row10_col13\" class=\"data row10 col13\" >92.196498</td>\n",
       "      <td id=\"T_d8221_row10_col14\" class=\"data row10 col14\" >92.196498</td>\n",
       "      <td id=\"T_d8221_row10_col15\" class=\"data row10 col15\" >92.196498</td>\n",
       "    </tr>\n",
       "  </tbody>\n",
       "</table>\n"
      ],
      "text/plain": [
       "<pandas.io.formats.style.Styler at 0x7f15e6b809d0>"
      ]
     },
     "execution_count": 29,
     "metadata": {},
     "output_type": "execute_result"
    }
   ],
   "source": [
    "missing_data_percentage\n",
    "missing_data_percentage.style.background_gradient(cmap='Greens', vmax = 10)"
   ]
  },
  {
   "cell_type": "markdown",
   "id": "9116142a-4227-4121-8ae6-a838bad2b740",
   "metadata": {},
   "source": [
    "As seen from the table above there are records for 11 years. The highest percentages missing data are in `wind_direction`, `ambient_temp`, `module_temp`, `poa_irradiance`, `relative_humidity` columns, with maximum of 94.9% missing records for 2019 and 92.19% for 2020. Those features are related to the weather conditions of the site. Highest percentage missing data for the electrical features are observed in 2010 - 18.29%. 2015 has the least missing records with 0.8% for some weather features and no missing electrical features.\n",
    "Based on that, a threshold of 10% is established and all years with a feature having missing data above that limit will be dropped. This leads to using 7 years for modeling - 2011 - 2017. "
   ]
  },
  {
   "cell_type": "code",
   "execution_count": 30,
   "id": "4d88da44-c7e4-425e-8b1b-2214dc215286",
   "metadata": {},
   "outputs": [],
   "source": [
    "pv_system_data_34 = cf.drop_years(pv_system_data_34, [2010, 2018, 2019, 2020])"
   ]
  },
  {
   "cell_type": "code",
   "execution_count": 31,
   "id": "7281cd66-d7c7-4ae0-af3b-8060962f85fd",
   "metadata": {},
   "outputs": [],
   "source": [
    "assert(pv_system_data_34['timestamp'][pv_system_data_34['timestamp'].dt.year == 2010].any() == False)\n",
    "assert(pv_system_data_34['timestamp'][pv_system_data_34['timestamp'].dt.year == 2018].any() == False)\n",
    "assert(pv_system_data_34['timestamp'][pv_system_data_34['timestamp'].dt.year == 2019].any() == False)\n",
    "assert(pv_system_data_34['timestamp'][pv_system_data_34['timestamp'].dt.year == 2020].any() == False)"
   ]
  }
 ],
 "metadata": {
  "kernelspec": {
   "display_name": "Python 3 (ipykernel)",
   "language": "python",
   "name": "python3"
  },
  "language_info": {
   "codemirror_mode": {
    "name": "ipython",
    "version": 3
   },
   "file_extension": ".py",
   "mimetype": "text/x-python",
   "name": "python",
   "nbconvert_exporter": "python",
   "pygments_lexer": "ipython3",
   "version": "3.8.13"
  }
 },
 "nbformat": 4,
 "nbformat_minor": 5
}
