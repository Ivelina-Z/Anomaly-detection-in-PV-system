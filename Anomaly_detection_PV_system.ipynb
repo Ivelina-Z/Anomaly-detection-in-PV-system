{
 "cells": [
  {
   "cell_type": "code",
   "execution_count": 1,
   "id": "939bb1a2-f7f6-4b2a-bcaf-917f63477ec8",
   "metadata": {},
   "outputs": [],
   "source": [
    "%matplotlib inline"
   ]
  },
  {
   "cell_type": "markdown",
   "id": "06a72e21-b377-4ad8-9816-4061d4d58645",
   "metadata": {
    "tags": []
   },
   "source": [
    "# <p style=\"text-align:center\">  Anomaly detection in PV system data using Isolation forest </p>"
   ]
  },
  {
   "cell_type": "markdown",
   "id": "efc970fd-3e40-4626-bfc8-b30fb2d0447f",
   "metadata": {},
   "source": [
    "## Abstract"
   ]
  },
  {
   "cell_type": "markdown",
   "id": "9029b54e-2590-4aae-bf65-c319a059ab75",
   "metadata": {},
   "source": [
    "In this project an anomaly detection model based on Isolation forest is trained and evaluated on real data from photovoltaic systems. Such tool might be used to set alarms to a decision-maker when an anomaly is found. The data two PV systems (ID-34 and ID-1276) is used. They have same location and different installed power. Data for system 34 is used for tuning, training and testing and all data for system 1276 is used only for testing.\n",
    "In section 1 a research on the types of failures in such systems and the maintenance strategies is made. The types of anomalies and a brief theoretical explanation about the Isolation forest work mechanism are also included. \n",
    "Section 2 describes the data used in the model and the preprocessing steps. These steps are applied in a pipeline. The relations between features, their time dependency and distributions are examined in the subsection 2.3.\n",
    "Section 3 briefly explains the labeling method.\n",
    "Section 4 gathers all the information about the model's hyperparameters' optimization, training and testing results on both data sets.\n",
    "In section 5 examples about types of found, missed and false anomalies are showed with features' importance plot. "
   ]
  },
  {
   "cell_type": "markdown",
   "id": "f03e0076-68d9-4a10-acc6-1600e9602fce",
   "metadata": {},
   "source": [
    "## 1. Research "
   ]
  },
  {
   "cell_type": "markdown",
   "id": "a5cd16c4-3686-4510-8ce0-ef1e898727c1",
   "metadata": {},
   "source": [
    "Photovoltaic (PV) systems are relatively low maintenance. However many solar installations do not operate at their full capacity due to several types of anomalies. The PV systems needs tools to monitor the system parameters and release alerts about anomalies to decision-makers as part of predictive maintenance. An anomaly detection model can be such tool. [[6]](#6), [[10]](#10)  "
   ]
  },
  {
   "cell_type": "markdown",
   "id": "b8db99fe-bde2-4864-afa0-d83c94eaa1f3",
   "metadata": {},
   "source": [
    "### 1.1. PV system maintenance and failures"
   ]
  },
  {
   "cell_type": "markdown",
   "id": "ba1a05f6-bb50-43f7-bb56-0a0b2ee7f6a9",
   "metadata": {},
   "source": [
    "Maintenance is an important aspect of every production site, including power plants. The types of maintenance are:\n",
    "- Preventive - includes scheduled activities, which period depends on number of factors, such as equipment type, environmental conditions like snowfall or presence of dust, etc.\n",
    "- Corrective - occurs when an issue is noticed and it's related to repairing a damage or change of defected component.\n",
    "- Condition-based - when a situation indicates that scheduling preventive measures is needed\n",
    "- Predictive -  a data-driven method, where sensors data indicate when maintenance is needed. Normally done by setting alarms that not necessarily mean a complete failure occurs, but that condition is approaching a range where catastrophic failure may occur. [[1]](#1), [[2]](#2)\n",
    "\n",
    "An anomaly detection can be applied as part of predictive maintenance, where an abnormal behavior of parameters is alarmed and after decision-maker's verification, a maintenance is scheduled.\n",
    "\n",
    "Common failures in a PV system are string faults, ground faults, line to line faults, DC arc faults, AC overvoltage etc. There are several specific conditions that aren't  necessary failures like  shading, inverter clipping and soiling. Some of them can be mistaken for failures such as inverter clipping or soiling and others may lead to failures - hot spots. These phenomena with their causes and ways to be identified are described below in tables 1 and 2. [[3]](#3). [[4]](#4)"
   ]
  },
  {
   "cell_type": "markdown",
   "id": "4ef8d922-a490-4b7a-8965-edd4cfbd0d68",
   "metadata": {},
   "source": [
    "<center><b>Table 1. Failure types in PV system</b></center> \n",
    "\n",
    "| Failure type | Explanation | Common reason| Identification |\n",
    "| --- | --- | --- |--- |\n",
    "| String fault | String stops producing power | string's DC fuse is blown | decrease in output with amount close to the power of the string|\n",
    "| Ground fault | Current leakage to the ground | unexpected connection, damage of conductors' insulation | reduced system efficiency, inverter error code |\n",
    "| Line to line fault | two points of different potential are short circuited | short circuit | short circuit current*|\n",
    "| DC arc fault | high-power discharge between two conductors, transient by nature | loose connections or degraded insulation | transient by nature, spectrum analysis of current and voltage waveform|\n",
    "| AC overvoltage | voltage increases over the inverters’ set parameters for overvoltage shut down | high resistance in wires between inverter and the grid connection | voltage drop, inverter code |\n",
    "\n",
    "*In PV systems the short circuit current $I_{sc}$ is a little higher than the operating current $I_{oc}$, which make it hard to distinguish at moments with low irradiation for both overcurrent protection devices and failure detection models."
   ]
  },
  {
   "cell_type": "markdown",
   "id": "efebdc97-fc6c-4648-836b-86fb25089457",
   "metadata": {},
   "source": [
    "<center><b>Table 2. Specific conditions that might be mistaken for failures in PV system</b></center> \n",
    "\n",
    "| Phenomenon | Explanation | Common reason| Identification |\n",
    "| --- | --- | --- |--- |\n",
    "| Shading | parts of strings or whole strings are shaded | nearby objects such as trees or other panels | decrease in energy production |\n",
    "| Inverter clipping | DC power is larger than the rated inverter AC output or the maximum allowable power at the grid connection | high solar irradiance, bad design choices | reduced production, power dissipation in the panels |\n",
    "| Soiling | power losses, caused by particles on the module's surface | snow, dirt, dust| reduced power yield |\n",
    "| Hot spots | areas of high temperature that affect a solar cell by consuming energy instead of generating it | shading, solar cell cracks or malfunctions | thermal images |"
   ]
  },
  {
   "cell_type": "markdown",
   "id": "2bb8ff65-43f2-4462-856a-cd057ab3b34c",
   "metadata": {},
   "source": [
    "### 1.2. Anomaly detection"
   ]
  },
  {
   "cell_type": "markdown",
   "id": "6fdcb316-d426-426a-82ed-f37e421f0b6e",
   "metadata": {},
   "source": [
    "The term anomalies in this context refers to cases, or groups of cases, that are in some way unusual and deviate from some notion of normality. The process of\n",
    "analyzing the data to identify unusual occurrences is called anomaly detection. \n",
    "\n",
    "Anomalies can be classified by the reason for their deviant nature to procedural error, extraordinary event, extraordinary observation or unique combination (where each attribute has normal value). Another classification divides anomalies to point anomaly where one or several individual cases that are deviant with respect to the rest of the data. Contextual anomaly, which is abnormal only when the context is taken into account, such as low temperature at summer. A collective anomaly is a collection of points that belong together and, as a group, deviate from the rest of the data. [[7]](#7)"
   ]
  },
  {
   "cell_type": "markdown",
   "id": "15e1466a-29ef-405e-b629-56f347e85254",
   "metadata": {},
   "source": [
    "The task of detecting failures, especially when their type needs to be specified can be really hard. One approach is modeling the power production and estimating the difference between the predicted and produced power in future time. Another approach is to detect anomalous point in the data. Depending on the approach the problem can be solved by using regression or classification. If labels are present, which is usually not the case, a supervised models can be applied.\n",
    "\n",
    "Most of the anomaly detection algorithms model the normal of the data and set anything out of that pattern as anomaly. For that kind of algorithm major assumption is that data has no or very few anomalies in it. \n",
    "\n",
    "[[6]](#6) shows application of Isolation forest and Autoencoder for unsupervised anomaly detection. The computed results for the Isolation forest model  are as follows: accuracy = 0.8963, precision = 0.9474, sensitivity = 0.9432, and f1 Score = 0.9453. [[10]](#10) suggests five tailored algorithms to detect PV system anomalies and also identify the cause of such anomalies: daytime zero-production, low maximum production, daytime shading, sunrise/sunset shading, and suboptimal orientation."
   ]
  },
  {
   "cell_type": "markdown",
   "id": "81ceef9a-5082-4f3b-a8ee-07c8930668b7",
   "metadata": {},
   "source": [
    "### 1.3. Isolation forest"
   ]
  },
  {
   "cell_type": "markdown",
   "id": "899b8b50-3927-436a-8550-25974e4e77d7",
   "metadata": {},
   "source": [
    "#### 1.3.a Base algorithm"
   ]
  },
  {
   "cell_type": "markdown",
   "id": "3f37a94f-4cb9-42cb-9b72-7e29d134fb5f",
   "metadata": {},
   "source": [
    "The algorithm starts with building $n$ isolation trees with predetermined amount of features and records in each. The root of the tree consists of all samples of the subset $X$. Every subset $X$ is recursively divided by randomly choosing a feature $q$ and a split value $p$ until the tree reaches its maximum depth, $|X| = 1$ or all data in $X$ have same values. Based on the two important properties of the anomaly points - they are few and very different from the normal, those are separated at earlier stage and their path length from the root to an external node is shorter.\n",
    "The average path length for an Isolation Tree is defined as:\n",
    "\n",
    "$$c(n) = 2H(n-1) - (2(n-1)/n), $$\n",
    "\n",
    "where $c(n)$ is the average of path length $h(x)$ given $n$ instances of the data set, $H(i)$ is a harmonic number and it's estimated as \n",
    "\n",
    "$$H(i) = ln(i) + \\gamma $$\n",
    "\n",
    "Based on the average path length an anomaly score for each instance $x$ is defined as:\n",
    "\n",
    "$$s(x,n) = 2^{-\\frac{E(h(x))}{c(n)}} $$\n",
    "\n",
    "where $E(h(x))$ is the average path length $h(x)$ of all trees in the ensemble.\n",
    "Based on the anomaly score every instance $x$ can be defined as definitely anomaly (is $s$ is very close to 1), normal (is $s$ in way smaller that 0.5) and the entire sample doesn't have distinct anomalies (if $s\\approx$ 0.5). [[9]](#9)"
   ]
  },
  {
   "cell_type": "markdown",
   "id": "00275a9f-5529-4eb2-a7d1-f9ee32508dd9",
   "metadata": {},
   "source": [
    "#### 1.3.b Algorithm advantages and disadvantages"
   ]
  },
  {
   "cell_type": "markdown",
   "id": "ca099369-edeb-48b5-ad26-35668939f1cb",
   "metadata": {},
   "source": [
    "Major advantages of Isolation forest are its linear time complexity, which makes it easily scalable, the ability to work with high dimensional data set, which might be needed if large system with a multiple inverters and sensors is examined. Because it's based on isolating points, the assumption that the data has very few  or no anomalies is not needed, unlike other anomaly detection algorithms. \n",
    "\n",
    "A disadvantage is that the algorithm suffers from a bias due to the fact that the dimension to split the data is randomly chosen. [[8]](#8)"
   ]
  },
  {
   "cell_type": "markdown",
   "id": "4549b060-1e9a-4a29-aed8-70d5f3f5b571",
   "metadata": {},
   "source": [
    "## 2. Data "
   ]
  },
  {
   "cell_type": "markdown",
   "id": "aceebb0e-e663-4d26-80a3-71d326953bcd",
   "metadata": {},
   "source": [
    "### 2.1. Data used"
   ]
  },
  {
   "cell_type": "markdown",
   "id": "6b1c30ac-14cf-49d2-9fb8-333e7dae6fbd",
   "metadata": {},
   "source": [
    "The data used for modeling is extracted from National Renewable Energy Laboratory's API. The system examined in the project is with ID 34. It's installed on a rooftop with location 36°11'42.7\"N, 115°09'29.5\"W in Las Vegas, Nevada, USA. Solar panels are tilted with 11.2 degrees. The system is equipped with SatCon Technology's inverted with nominal AC power 135kW and Sharp's solar panels, model NU-U240F1 with installed peak power of 146.64kWp.  \n",
    "\n",
    "Additional data for system with ID 1276 is used only for test of the already trained model. This system is installed on the same building's rooftop. Solar panels are tilted with 5 degrees. The installed peak power is 68.4kWp. Same manufacturer inverter is used, but with nominal power of 50kW. The panels used are same as system 34.\n",
    "\n",
    "For both systems, records are taken every 15 minutes from 2011 till 2020, which leads to total of 344993 records for system 34 and 309186 records for system 1276. There is information about the weather conditions at the site, such as ambient temperature, wind direction, wind speed, relative humidity and plane of array (POA) irradiance  and the electrical parameters, such as current, voltage and power on the AC and DC side, temperature of the inverter and the modules and power factor. "
   ]
  },
  {
   "cell_type": "code",
   "execution_count": 4,
   "id": "39771a8b-053c-40db-97f7-ac3f3634dffa",
   "metadata": {},
   "outputs": [
    {
     "name": "stderr",
     "output_type": "stream",
     "text": [
      "Columns (0,2,3,4,5,6,7,8,9,10,11,12,13,14,15,16) have mixed types. Specify dtype option on import or set low_memory=False.\n"
     ]
    }
   ],
   "source": [
    "system_34_data = pd.read_csv('data/ASYNC_annual_data_system_34.txt')"
   ]
  },
  {
   "cell_type": "code",
   "execution_count": 5,
   "id": "4f7c860d-4b8e-4d2a-9f46-41c957df0b09",
   "metadata": {},
   "outputs": [
    {
     "data": {
      "text/html": [
       "<div>\n",
       "<style scoped>\n",
       "    .dataframe tbody tr th:only-of-type {\n",
       "        vertical-align: middle;\n",
       "    }\n",
       "\n",
       "    .dataframe tbody tr th {\n",
       "        vertical-align: top;\n",
       "    }\n",
       "\n",
       "    .dataframe thead th {\n",
       "        text-align: right;\n",
       "    }\n",
       "</style>\n",
       "<table border=\"1\" class=\"dataframe\">\n",
       "  <thead>\n",
       "    <tr style=\"text-align: right;\">\n",
       "      <th></th>\n",
       "      <th>SiteID</th>\n",
       "      <th>Date-Time</th>\n",
       "      <th>ac_current</th>\n",
       "      <th>ac_power</th>\n",
       "      <th>ac_voltage</th>\n",
       "      <th>ambient_temp</th>\n",
       "      <th>dc_current</th>\n",
       "      <th>dc_power</th>\n",
       "      <th>dc_voltage</th>\n",
       "      <th>inverter_error_code</th>\n",
       "      <th>inverter_temp</th>\n",
       "      <th>module_temp</th>\n",
       "      <th>poa_irradiance</th>\n",
       "      <th>power_factor</th>\n",
       "      <th>relative_humidity</th>\n",
       "      <th>wind_direction</th>\n",
       "      <th>wind_speed</th>\n",
       "    </tr>\n",
       "  </thead>\n",
       "  <tbody>\n",
       "    <tr>\n",
       "      <th>0</th>\n",
       "      <td>34</td>\n",
       "      <td>2010-08-23 11:13:27</td>\n",
       "      <td>NaN</td>\n",
       "      <td>NaN</td>\n",
       "      <td>NaN</td>\n",
       "      <td>NaN</td>\n",
       "      <td>NaN</td>\n",
       "      <td>NaN</td>\n",
       "      <td>NaN</td>\n",
       "      <td>160</td>\n",
       "      <td>NaN</td>\n",
       "      <td>NaN</td>\n",
       "      <td>NaN</td>\n",
       "      <td>NaN</td>\n",
       "      <td>NaN</td>\n",
       "      <td>NaN</td>\n",
       "      <td>NaN</td>\n",
       "    </tr>\n",
       "  </tbody>\n",
       "</table>\n",
       "</div>"
      ],
      "text/plain": [
       "  SiteID            Date-Time ac_current ac_power ac_voltage ambient_temp  \\\n",
       "0     34  2010-08-23 11:13:27        NaN      NaN        NaN          NaN   \n",
       "\n",
       "  dc_current dc_power dc_voltage inverter_error_code inverter_temp  \\\n",
       "0        NaN      NaN        NaN                 160           NaN   \n",
       "\n",
       "  module_temp poa_irradiance power_factor relative_humidity wind_direction  \\\n",
       "0         NaN            NaN          NaN               NaN            NaN   \n",
       "\n",
       "  wind_speed  \n",
       "0        NaN  "
      ]
     },
     "execution_count": 5,
     "metadata": {},
     "output_type": "execute_result"
    }
   ],
   "source": [
    "system_34_data.head(1)"
   ]
  },
  {
   "cell_type": "code",
   "execution_count": 6,
   "id": "b0f269f9-4497-4e4e-aaf3-63b5d531a9b8",
   "metadata": {},
   "outputs": [
    {
     "name": "stderr",
     "output_type": "stream",
     "text": [
      "Columns (0,2,3,4,5,6,7,8,9,10,11,12,13,14,15,16) have mixed types. Specify dtype option on import or set low_memory=False.\n"
     ]
    }
   ],
   "source": [
    "system_1276_data = pd.read_csv('data/ASYNC_annual_data_system_1276.txt')"
   ]
  },
  {
   "cell_type": "code",
   "execution_count": 7,
   "id": "58443ec8-347d-4566-a1d8-8dee504f8e2a",
   "metadata": {},
   "outputs": [
    {
     "data": {
      "text/html": [
       "<div>\n",
       "<style scoped>\n",
       "    .dataframe tbody tr th:only-of-type {\n",
       "        vertical-align: middle;\n",
       "    }\n",
       "\n",
       "    .dataframe tbody tr th {\n",
       "        vertical-align: top;\n",
       "    }\n",
       "\n",
       "    .dataframe thead th {\n",
       "        text-align: right;\n",
       "    }\n",
       "</style>\n",
       "<table border=\"1\" class=\"dataframe\">\n",
       "  <thead>\n",
       "    <tr style=\"text-align: right;\">\n",
       "      <th></th>\n",
       "      <th>SiteID</th>\n",
       "      <th>Date-Time</th>\n",
       "      <th>ac_current</th>\n",
       "      <th>ac_power</th>\n",
       "      <th>ac_voltage</th>\n",
       "      <th>ambient_temp</th>\n",
       "      <th>dc_current</th>\n",
       "      <th>dc_power</th>\n",
       "      <th>dc_voltage</th>\n",
       "      <th>inverter_error_code</th>\n",
       "      <th>inverter_temp</th>\n",
       "      <th>module_temp</th>\n",
       "      <th>poa_irradiance</th>\n",
       "      <th>power_factor</th>\n",
       "      <th>relative_humidity</th>\n",
       "      <th>wind_direction</th>\n",
       "      <th>wind_speed</th>\n",
       "    </tr>\n",
       "  </thead>\n",
       "  <tbody>\n",
       "    <tr>\n",
       "      <th>0</th>\n",
       "      <td>1276</td>\n",
       "      <td>2011-08-30 23:00:00</td>\n",
       "      <td>0</td>\n",
       "      <td>-200</td>\n",
       "      <td>287</td>\n",
       "      <td>29.5983371012</td>\n",
       "      <td>0</td>\n",
       "      <td>0</td>\n",
       "      <td>0</td>\n",
       "      <td>0</td>\n",
       "      <td>36</td>\n",
       "      <td>27.11111468</td>\n",
       "      <td>0.293</td>\n",
       "      <td>0</td>\n",
       "      <td>9.969</td>\n",
       "      <td>208.71</td>\n",
       "      <td>1.23204224</td>\n",
       "    </tr>\n",
       "  </tbody>\n",
       "</table>\n",
       "</div>"
      ],
      "text/plain": [
       "  SiteID            Date-Time ac_current ac_power ac_voltage   ambient_temp  \\\n",
       "0   1276  2011-08-30 23:00:00          0     -200        287  29.5983371012   \n",
       "\n",
       "  dc_current dc_power dc_voltage inverter_error_code inverter_temp  \\\n",
       "0          0        0          0                   0            36   \n",
       "\n",
       "   module_temp poa_irradiance power_factor relative_humidity wind_direction  \\\n",
       "0  27.11111468          0.293            0             9.969         208.71   \n",
       "\n",
       "   wind_speed  \n",
       "0  1.23204224  "
      ]
     },
     "execution_count": 7,
     "metadata": {},
     "output_type": "execute_result"
    }
   ],
   "source": [
    "system_1276_data.head(1)"
   ]
  },
  {
   "cell_type": "markdown",
   "id": "068438b2-6714-4d81-8ef2-75675c773c52",
   "metadata": {},
   "source": [
    "Because of the way of data extraction from the API, at the beginning of every year there are additional rows with headers. Those are dropped. The columns `SiteID` and `Date-Time` are renamed. Initially all data types are object. Those will be converted as stated in the `new_dtypes` dictionary."
   ]
  },
  {
   "cell_type": "code",
   "execution_count": 8,
   "id": "6f13c493-d07d-4f98-b702-d4dac0b6b83e",
   "metadata": {
    "tags": []
   },
   "outputs": [],
   "source": [
    "system_34_data = cf.delete_additional_header(system_34_data)\n",
    "system_1276_data = cf.delete_additional_header(system_1276_data)"
   ]
  },
  {
   "cell_type": "code",
   "execution_count": 9,
   "id": "03418a4d-9a7c-4f29-a643-a44171ea1a63",
   "metadata": {},
   "outputs": [],
   "source": [
    "system_34_data = system_34_data.rename(columns = {'SiteID': 'site_id', 'Date-Time': 'timestamp'})\n",
    "system_1276_data = system_1276_data.rename(columns = {'SiteID': 'site_id', 'Date-Time': 'timestamp'})"
   ]
  },
  {
   "cell_type": "code",
   "execution_count": 10,
   "id": "71aee600-a906-48fa-abe7-fbf4eed42d7f",
   "metadata": {},
   "outputs": [],
   "source": [
    "new_dtypes =  {'site_id': object, 'timestamp': 'datetime64', 'ac_current': float, 'ac_power': float, 'ac_voltage': float, 'ambient_temp': float,\n",
    "               'dc_current': float, 'dc_power': float, 'dc_voltage': float, 'inverter_error_code': int, 'inverter_temp': float, 'module_temp': float,\n",
    "                'poa_irradiance': float, 'power_factor': float, 'relative_humidity': float, 'wind_direction': float, 'wind_speed': float}"
   ]
  },
  {
   "cell_type": "code",
   "execution_count": 11,
   "id": "a3f91e53-04bf-4143-8310-8cd14b3efc12",
   "metadata": {},
   "outputs": [],
   "source": [
    "system_34_data = cf.convert_data_types(system_34_data, new_dtypes)\n",
    "system_1276_data = cf.convert_data_types(system_1276_data, new_dtypes)"
   ]
  },
  {
   "cell_type": "markdown",
   "id": "f8e42389-2efd-48ff-8aee-4a0a85b7d1a8",
   "metadata": {
    "tags": []
   },
   "source": [
    "### Literature:\n",
    "<a id=1></a> 1. https://www.nrel.gov/docs/fy19osti/73822.pdf\n",
    "\n",
    "<a id=2></a> 2. https://toolsense.io/maintenance/the-6-types-of-maintenance-definitions-benefits-examples/\n",
    "\n",
    "<a id=3></a> 3. ~/work/SoftUni_python/machine_learning/project/research/Final-Report-IEA-PVPS-T13-19_2021_PV-Failure-Monitoring.pdf\n",
    "\n",
    "<a id=4></a> 4. https://omegasolarandbatteries.com.au/what-are-hot-spots/\n",
    "\n",
    "<a id=5></a> 5. Livera, A.; Paphitis, G.; Theristis, M.; Lopez-Lorente, J.; Makrides, G.; Georghiou, G.E. Photovoltaic System Health-State Architecture for Data-Driven Failure Detection. Solar 2022, 2, 81-98. https://doi.org/10.3390/solar2010006\n",
    "\n",
    "<a id=6></a>  6. Ibrahim, M.; Alsheikh, A.; Awaysheh, F.M.; Alshehri, M.D. Machine Learning Schemes for Anomaly Detection in Solar Power Plants. Energies 2022, 15, 1082. https://doi.org/10.3390/en15031082 \n",
    "\n",
    "<a id=7></a>  7. Foorthuis, Ralph. (2021). On the nature and types of anomalies: a review of deviations in data. International Journal of Data Science and Analytics. 12. 1-35. 10.1007/s41060-021-00265-1. \n",
    "\n",
    "<a id=8></a> 8. Julien Lesouple, Cédric Baudoin, Marc Spigai, Jean-Yves Tourneret, Generalized isolation forest for anomaly detection, Pattern Recognition Letters, Volume 149,\n",
    "2021, Pages 109-119, ISSN 0167-8655, https://doi.org/10.1016/j.patrec.2021.05.022.\n",
    "\n",
    "<a id=9></a> 9. Liu, Fei Tony & Ting, Kai & Zhou, Zhi-Hua. (2009). Isolation Forest. 413 - 422. 10.1109/ICDM.2008.17.\n",
    "\n",
    "<a id=10></a> 10. Branco, P.; Gonçalves, F.; Costa, A.C. Tailored Algorithms for Anomaly Detection in Photovoltaic Systems. Energies 2020, 13, 225. https://doi.org/10.3390/en13010225 "
   ]
  }
 ],
 "metadata": {
  "kernelspec": {
   "display_name": "Python 3 (ipykernel)",
   "language": "python",
   "name": "python3"
  },
  "language_info": {
   "codemirror_mode": {
    "name": "ipython",
    "version": 3
   },
   "file_extension": ".py",
   "mimetype": "text/x-python",
   "name": "python",
   "nbconvert_exporter": "python",
   "pygments_lexer": "ipython3",
   "version": "3.8.13"
  }
 },
 "nbformat": 4,
 "nbformat_minor": 5
}
